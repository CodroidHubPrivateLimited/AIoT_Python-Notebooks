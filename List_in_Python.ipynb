{
 "cells": [
  {
   "attachments": {
    "cdd6a6db-8d69-4656-9295-7a9e15344ad6.png": {
     "image/png": "[encoded data removed]"
    }
   },
   "cell_type": "markdown",
   "id": "7165bfbc-c4fb-4600-819b-e9194ac7062a",
   "metadata": {},
   "source": [
    "![Logo (4).png](attachment:cdd6a6db-8d69-4656-9295-7a9e15344ad6.png)"
   ]
  },
  {
   "cell_type": "markdown",
   "id": "29298a19-b84c-4254-b0c6-c0ad7cd721e5",
   "metadata": {
    "tags": []
   },
   "source": [
    "# List"
   ]
  },
  {
   "cell_type": "markdown",
   "id": "ae92d389-b19b-4865-bfd8-f7de7a4deca8",
   "metadata": {},
   "source": [
    "<b>Lists are:</b>\n",
    "- Used to store multiple items in a single variable\n",
    "- One of 4 built-in data types in Python used to store collections of data\n",
    "- Created using square brackets"
   ]
  },
  {
   "cell_type": "markdown",
   "id": "6886ac27-a378-49c7-a739-097a3738782a",
   "metadata": {},
   "source": [
    "<b>Some Python List characteristics: </b>\n",
    "- List items are ordered, changeable, and allow duplicate values.\n",
    "- List items are indexed, the first item has index [0], the second item has index [1] etc.\n",
    "- Items  in a list have a defined order, and that order will not change. If you add new items to a list, the new items will be placed at the end of the list.\n",
    "- The list is changeable, meaning that we can change, add, and remove items in a list after it has been created.\n",
    "- Since lists are indexed and can have items with the same value"
   ]
  },
  {
   "cell_type": "code",
   "execution_count": 2,
   "id": "a118e7bc-aa10-465a-b57c-e4e32c8cb7a7",
   "metadata": {},
   "outputs": [
    {
     "name": "stdout",
     "output_type": "stream",
     "text": [
      "[1, 5, 'Karan', '564', True]\n"
     ]
    }
   ],
   "source": [
    "# creating a simple list \n",
    "lists = [1,5,\"Karan\",\"564\",True]    # Assigning different type of values to list\n",
    "print(lists)                        # Printing the List"
   ]
  },
  {
   "cell_type": "markdown",
   "id": "88f1afd6-ef1a-4c51-b784-6455dca547c2",
   "metadata": {},
   "source": [
    "## Accessing Elements"
   ]
  },
  {
   "cell_type": "markdown",
   "id": "db93df94-b73b-4a6f-917a-6c0086dff2c9",
   "metadata": {},
   "source": [
    "Items in a list can be accessed by using their index numbers just as we do in strings."
   ]
  },
  {
   "cell_type": "code",
   "execution_count": 5,
   "id": "13888e7a-f675-48b9-9ae9-59e4c853e3d6",
   "metadata": {},
   "outputs": [
    {
     "name": "stdout",
     "output_type": "stream",
     "text": [
      "charvi\n"
     ]
    }
   ],
   "source": [
    "list_1 = [\"Karan\",\"namit\",\"charvi\",\"naman\"] # here's a list named list_1 with 4 items in it \n",
    "print(list_1[2])  # accessing the item at index number 2"
   ]
  },
  {
   "cell_type": "code",
   "execution_count": 6,
   "id": "d40ef492-6603-4a34-88ce-cd3b3f0e0e0a",
   "metadata": {},
   "outputs": [
    {
     "name": "stdout",
     "output_type": "stream",
     "text": [
      "naman\n"
     ]
    }
   ],
   "source": [
    "# we can also have the negetive indexing in list just as strings\n",
    "list_1 = [\"Karan\",\"namit\",\"charvi\",\"naman\"]\n",
    "print(list_1[-1])  # here we printed the item at index -1 (this indexing starts from end of the list to start)"
   ]
  },
  {
   "cell_type": "markdown",
   "id": "0f52f863-0beb-4a85-88c6-a07affefcbaf",
   "metadata": {},
   "source": [
    "## Range of Indexes "
   ]
  },
  {
   "cell_type": "markdown",
   "id": "3d6e5dbf-c082-47b1-9aa6-2fa6b799c540",
   "metadata": {},
   "source": [
    "We can specify a range of indexes by specifying where to start and where to end the range.\n",
    "\n",
    "When specifying a range, the return value will be a new list with the specified items."
   ]
  },
  {
   "cell_type": "code",
   "execution_count": 7,
   "id": "32626570-185e-4f39-af18-d53cb0b1c994",
   "metadata": {},
   "outputs": [
    {
     "name": "stdout",
     "output_type": "stream",
     "text": [
      "['cherry', 'orange', 'kiwi']\n"
     ]
    }
   ],
   "source": [
    "list_2 = [\"apple\", \"banana\", \"cherry\", \"orange\", \"kiwi\", \"melon\", \"mango\"] # declaring a list\n",
    "\n",
    "print(list_2[2:5])"
   ]
  },
  {
   "cell_type": "code",
   "execution_count": 8,
   "id": "e7d2c58a-1d0f-4c07-bfe5-3b782976dfc6",
   "metadata": {},
   "outputs": [
    {
     "name": "stdout",
     "output_type": "stream",
     "text": [
      "['cherry', 'orange', 'kiwi', 'melon', 'mango']\n",
      "['apple', 'banana', 'cherry', 'orange', 'kiwi']\n"
     ]
    }
   ],
   "source": [
    "# Slicing a list just as we did in strings\n",
    "print(list_2[2:]) # printing items from index 2 till the end of list\n",
    "print(list_2[:5]) # printing items form start of list to index 4"
   ]
  },
  {
   "cell_type": "markdown",
   "id": "64ef64cd-1730-4919-8dd9-4f9e22a656b7",
   "metadata": {},
   "source": [
    "## Changing List Items"
   ]
  },
  {
   "cell_type": "markdown",
   "id": "41d922d6-74d6-4dc1-b6cd-5ebc52a2d27b",
   "metadata": {},
   "source": [
    "To change the value of a specific item in a list, just pass the index of that item and assing new value to it."
   ]
  },
  {
   "cell_type": "code",
   "execution_count": 11,
   "id": "5b651c5b-442c-4540-94a7-a941f672e483",
   "metadata": {},
   "outputs": [
    {
     "name": "stdout",
     "output_type": "stream",
     "text": [
      "['apple', 'banana', 'cherry']\n",
      "['apple', 'mango', 'cherry']\n"
     ]
    }
   ],
   "source": [
    "list_3 = [\"apple\", \"banana\", \"cherry\"]\n",
    "print(list_3)\n",
    "list_3[1] = \"mango\"  # replacing the item at index 1\n",
    "print(list_3)                 # new list "
   ]
  },
  {
   "cell_type": "markdown",
   "id": "16f3f0ac-6509-4f91-8139-d7ece9bb505c",
   "metadata": {},
   "source": [
    "- We can also change a range of values in a list"
   ]
  },
  {
   "cell_type": "code",
   "execution_count": 14,
   "id": "ccae36d7-9562-48ac-8179-9e981be5b6a2",
   "metadata": {},
   "outputs": [
    {
     "name": "stdout",
     "output_type": "stream",
     "text": [
      "['apple', 'banana', 'cherry', 'orange', 'kiwi', 'melon', 'mango']\n"
     ]
    },
    {
     "data": {
      "text/plain": [
       "['apple', 'banana', 'karan', 'naman', 'charvi', 'mango']"
      ]
     },
     "execution_count": 14,
     "metadata": {},
     "output_type": "execute_result"
    }
   ],
   "source": [
    "list_4 = [\"apple\", \"banana\", \"cherry\", \"orange\", \"kiwi\", \"melon\", \"mango\"]\n",
    "print(list_4)\n",
    "list_4[2:6] = [\"karan\",\"naman\",\"charvi\"] # taking a range of index and changing its values\n",
    "list_4"
   ]
  },
  {
   "cell_type": "markdown",
   "id": "d8f3b144-af26-414d-99bf-d28f3cad61c3",
   "metadata": {},
   "source": [
    "- Inserting new values between the list using insert function"
   ]
  },
  {
   "cell_type": "code",
   "execution_count": 16,
   "id": "81198244-d446-4609-84bc-aad2f347e2ee",
   "metadata": {},
   "outputs": [
    {
     "data": {
      "text/plain": [
       "['karan', 'gaurav', 'charvi', 'bharti']"
      ]
     },
     "execution_count": 16,
     "metadata": {},
     "output_type": "execute_result"
    }
   ],
   "source": [
    "names = [\"karan\",\"charvi\",\"bharti\"]\n",
    "names.insert(1,\"gaurav\") # inserting new value between a list by giving its index value to which we have to insert it\n",
    "names"
   ]
  },
  {
   "cell_type": "markdown",
   "id": "7d4e4777-cdf2-4446-86de-08cbddfe56ac",
   "metadata": {},
   "source": [
    "- If we have to insert new value at the end of list we can use append function"
   ]
  },
  {
   "cell_type": "code",
   "execution_count": 17,
   "id": "04ad8003-7611-4977-b7e9-19c9942e9461",
   "metadata": {},
   "outputs": [
    {
     "data": {
      "text/plain": [
       "['white', 'blue', 'black', 'red']"
      ]
     },
     "execution_count": 17,
     "metadata": {},
     "output_type": "execute_result"
    }
   ],
   "source": [
    "colors = [\"white\",\"blue\",\"black\"]\n",
    "colors.append(\"red\")  # just pass the item in it and it will add that item at the end of the list\n",
    "colors"
   ]
  },
  {
   "cell_type": "markdown",
   "id": "849b5f25-5e4e-43b5-bc92-64dc7735df19",
   "metadata": {},
   "source": [
    "- Extending a list"
   ]
  },
  {
   "cell_type": "code",
   "execution_count": 19,
   "id": "487fdf82-6a66-4956-b571-fa49a7b1c6da",
   "metadata": {},
   "outputs": [
    {
     "name": "stdout",
     "output_type": "stream",
     "text": [
      "['ambala', 'delhi', 'mumbai', 'lucknow', 'chandigarh', 'patna']\n"
     ]
    }
   ],
   "source": [
    "city_1 = [\"ambala\",\"delhi\",\"mumbai\"]\n",
    "city_2 = [\"lucknow\",\"chandigarh\",\"patna\"]\n",
    "city_1.extend(city_2) # giving the name of list which we have to add to current list\n",
    "print(city_1)"
   ]
  },
  {
   "cell_type": "markdown",
   "id": "e8796381-b785-4939-986f-1f52c31f8c23",
   "metadata": {},
   "source": [
    "- We can also remove values form a list using remove() function"
   ]
  },
  {
   "cell_type": "code",
   "execution_count": 20,
   "id": "16da55cd-8682-49db-80cc-4d2723403ccc",
   "metadata": {},
   "outputs": [
    {
     "name": "stdout",
     "output_type": "stream",
     "text": [
      "['books', 'notebooks', 'tablets', 'students']\n"
     ]
    }
   ],
   "source": [
    "material_1 = [\"books\",\"students\",\"notebooks\",\"tablets\",\"students\"]\n",
    "material_1.remove(\"students\") # passing the value which we have to remove from the list\n",
    "print(material_1)"
   ]
  },
  {
   "cell_type": "markdown",
   "id": "263603a6-c96d-4740-89c6-5386679313af",
   "metadata": {},
   "source": [
    "- We can also use pop functions to remove items from a list"
   ]
  },
  {
   "cell_type": "code",
   "execution_count": 22,
   "id": "b63ee851-f76b-4f6b-b886-8a6ac2d4cbb5",
   "metadata": {},
   "outputs": [
    {
     "name": "stdout",
     "output_type": "stream",
     "text": [
      "['books', 'notebooks', 'tablets']\n"
     ]
    }
   ],
   "source": [
    "material_1 = [\"books\",\"notebooks\",\"tablets\",\"students\"]\n",
    "material_1.pop() # just pass the index of that value which we have to remove from that list\n",
    "\"\"\"material_1.pop()\n",
    "material_1.pop()\n",
    "material_1.pop()\"\"\"\n",
    "print(material_1)"
   ]
  },
  {
   "cell_type": "markdown",
   "id": "96cdde83-e1f4-4e0f-a1cb-10823d8e8917",
   "metadata": {},
   "source": [
    "- del() function"
   ]
  },
  {
   "cell_type": "code",
   "execution_count": 2,
   "id": "db51b7c3-baa0-4350-8211-4937f90c930e",
   "metadata": {},
   "outputs": [
    {
     "ename": "NameError",
     "evalue": "name 'names' is not defined",
     "output_type": "error",
     "traceback": [
      "\u001b[1;31m---------------------------------------------------------------------------\u001b[0m",
      "\u001b[1;31mNameError\u001b[0m                                 Traceback (most recent call last)",
      "Cell \u001b[1;32mIn[2], line 6\u001b[0m\n\u001b[0;32m      4\u001b[0m \u001b[38;5;28;01mdel\u001b[39;00m names \u001b[38;5;66;03m# it also takes index as parameter\u001b[39;00m\n\u001b[0;32m      5\u001b[0m \u001b[38;5;66;03m#print(material_1)\u001b[39;00m\n\u001b[1;32m----> 6\u001b[0m \u001b[38;5;28mprint\u001b[39m(\u001b[43mnames\u001b[49m)\n",
      "\u001b[1;31mNameError\u001b[0m: name 'names' is not defined"
     ]
    }
   ],
   "source": [
    "# It is also used to remove a value from list\n",
    "names = [\"Sunidhi\", \"Ritika\",\"Taranpreet\", \"shiksha\"]\n",
    "material_1 = [\"books\",\"notebooks\",\"tablets\",\"students\"]\n",
    "del names # it also takes index as parameter\n",
    "#print(material_1)\n",
    "print(names)"
   ]
  },
  {
   "cell_type": "markdown",
   "id": "2dcd94fa-1284-4884-ad12-036844ec9059",
   "metadata": {},
   "source": [
    "- clear() function"
   ]
  },
  {
   "cell_type": "code",
   "execution_count": 24,
   "id": "dee93896-5e78-454b-b3df-6868dce425d1",
   "metadata": {},
   "outputs": [
    {
     "name": "stdout",
     "output_type": "stream",
     "text": [
      "[]\n"
     ]
    }
   ],
   "source": [
    "# It deletes all the values from a list \n",
    "material_2 = [\"books\",\"notebooks\",\"tablets\",\"students\"]\n",
    "material_2.clear() # in this the list remains but its all values are deleted and now the list is empty\n",
    "print(material_2)"
   ]
  },
  {
   "cell_type": "markdown",
   "id": "b38c35a4-666e-45f8-864b-cf930dfb3136",
   "metadata": {},
   "source": [
    "## Sorting"
   ]
  },
  {
   "cell_type": "markdown",
   "id": "c8c8648c-1b26-4c86-9076-01a36922d595",
   "metadata": {},
   "source": [
    "We can sort a list using sort() function"
   ]
  },
  {
   "cell_type": "code",
   "execution_count": 25,
   "id": "06675837-a461-4205-831f-20d3a0aac3ca",
   "metadata": {},
   "outputs": [
    {
     "name": "stdout",
     "output_type": "stream",
     "text": [
      "['5', '5.0', '50874512', '6523', 'banana', 'kiwi', 'mango', 'orange', 'pineapple']\n"
     ]
    }
   ],
   "source": [
    "fruit_list = [\"orange\", \"mango\", \"5\",\"5.0\",\"6523\",\"kiwi\",\"50874512\", \"pineapple\", \"banana\"]\n",
    "fruit_list.sort() # in this example this list is sorted alphabetically \n",
    "print(fruit_list)"
   ]
  },
  {
   "cell_type": "code",
   "execution_count": 26,
   "id": "2a500de9-91c6-4c8c-8f29-3b9154734a96",
   "metadata": {},
   "outputs": [
    {
     "name": "stdout",
     "output_type": "stream",
     "text": [
      "[23, 50, 65, 82, 100]\n"
     ]
    }
   ],
   "source": [
    "# Performing same operation on list containing int values\n",
    "ints = [100, 50, 65, 82, 23]\n",
    "ints.sort()\n",
    "print(ints)"
   ]
  },
  {
   "cell_type": "markdown",
   "id": "748adec5-8cf7-4062-bdf0-f25efd86dadf",
   "metadata": {},
   "source": [
    "- Sorting list in reverse order"
   ]
  },
  {
   "cell_type": "code",
   "execution_count": 27,
   "id": "51f2cfbb-1889-431e-86a8-3b7347f16f33",
   "metadata": {},
   "outputs": [
    {
     "name": "stdout",
     "output_type": "stream",
     "text": [
      "[56, 10, 6, 4, 3, 2]\n"
     ]
    }
   ],
   "source": [
    "ints_1 = [3,4,10,56,2,6]\n",
    "ints_1.sort( reverse = True ) # reverse is set to a boolean value \"true\" which states that it should be sorted in reverse\n",
    "print(ints_1)"
   ]
  },
  {
   "cell_type": "code",
   "execution_count": 29,
   "id": "9efc59e9-50bc-4c69-96ad-fbe2d3ce1333",
   "metadata": {},
   "outputs": [
    {
     "name": "stdout",
     "output_type": "stream",
     "text": [
      "['cherry', 'Kiwi', 'Orange', 'banana']\n"
     ]
    }
   ],
   "source": [
    "thislist = [\"banana\", \"Orange\", \"Kiwi\", \"cherry\"]      # this list follows..... nomenclature\n",
    "thislist.reverse()\n",
    "print(thislist)"
   ]
  },
  {
   "cell_type": "markdown",
   "id": "613d0a05-56c0-4355-b3e0-517f4e7d310c",
   "metadata": {},
   "source": [
    "- Reverse sorting a list"
   ]
  },
  {
   "cell_type": "code",
   "execution_count": 31,
   "id": "8444fc1e-f208-400c-bcd7-0e1e737d9072",
   "metadata": {},
   "outputs": [
    {
     "name": "stdout",
     "output_type": "stream",
     "text": [
      "['Orange', 'Kiwi', 'Cherry', 'Banana']\n"
     ]
    }
   ],
   "source": [
    "fruits = [\"Banana\", \"Orange\", \"Kiwi\", \"Cherry\"]\n",
    "fruits.sort(reverse = True)\n",
    "print(fruits)"
   ]
  },
  {
   "cell_type": "markdown",
   "id": "2e54d545-8565-49cd-8394-c38e262aacf2",
   "metadata": {},
   "source": [
    "## Joining list"
   ]
  },
  {
   "cell_type": "code",
   "execution_count": 32,
   "id": "4cd635d1-4f3e-4b38-b39a-c4a09d4f0c2f",
   "metadata": {},
   "outputs": [
    {
     "name": "stdout",
     "output_type": "stream",
     "text": [
      "['a', 'b', 'c', 1, 2, 3]\n"
     ]
    }
   ],
   "source": [
    "list_1 = [\"a\", \"b\" , \"c\"]\n",
    "list_2 = [1, 2, 3]\n",
    "print(list_1 + list_2)"
   ]
  },
  {
   "cell_type": "markdown",
   "id": "fadd8ec0-c23b-4f46-9b9d-dd5748bae33f",
   "metadata": {},
   "source": [
    "- Using extend function"
   ]
  },
  {
   "cell_type": "code",
   "execution_count": 33,
   "id": "db299462-1990-4b59-a124-cde5aea8f7f3",
   "metadata": {},
   "outputs": [
    {
     "name": "stdout",
     "output_type": "stream",
     "text": [
      "['a', 'b', 'c', 1, 2, 3]\n"
     ]
    }
   ],
   "source": [
    "list_1 = [\"a\", \"b\" , \"c\"]\n",
    "list_2 = [1, 2, 3]\n",
    "list_1.extend(list_2) # passing the name of list which we want to add to existing list\n",
    "print(list_1)"
   ]
  },
  {
   "cell_type": "markdown",
   "id": "3a5cb5ae-b0fd-4c7e-a023-e0504f9695cf",
   "metadata": {},
   "source": [
    "- Some List methods"
   ]
  },
  {
   "attachments": {
    "cb93418f-875b-4c0d-add6-0473853be05f.png": {
     "image/png": "[encoded data removed]"
    }
   },
   "cell_type": "markdown",
   "id": "59f85cf8-daa9-440e-8dab-3789f1615745",
   "metadata": {
    "tags": []
   },
   "source": [
    "![image.png](attachment:cb93418f-875b-4c0d-add6-0473853be05f.png)"
   ]
  },
  {
   "cell_type": "markdown",
   "id": "8eab40e5-a4a0-4b15-a739-c7f4e901c53e",
   "metadata": {},
   "source": [
    "## Task -1"
   ]
  },
  {
   "cell_type": "code",
   "execution_count": 36,
   "id": "84c9af58-b1b9-4361-a7b8-dd3cecb720a3",
   "metadata": {},
   "outputs": [
    {
     "data": {
      "text/plain": [
       "\"Write a program in which list is first sorted and then reversed. \\nThen Last 2 items should be changed to one persons's name and delete the first value in it.\""
      ]
     },
     "execution_count": 36,
     "metadata": {},
     "output_type": "execute_result"
    }
   ],
   "source": [
    "\"\"\"Write a program in which list is first sorted and then reversed. \n",
    "Then Last 2 items should be changed to one persons's name and delete the first value in it.\"\"\""
   ]
  },
  {
   "cell_type": "code",
   "execution_count": null,
   "id": "6b9639b6-3c8b-454b-9304-4b869dea27da",
   "metadata": {},
   "outputs": [],
   "source": []
  },
  {
   "cell_type": "markdown",
   "id": "0bc9ecf7-cac8-4f8c-b2e7-cdba0519a191",
   "metadata": {},
   "source": [
    "Social Media Links of CodroidHub\n",
    "- LinkedIn - https://www.linkedin.com/company/codroidhub/\n",
    "- Facebook - https://www.facebook.com/codroidhubpvtltd/\n",
    "- Instagram - https://www.instagram.com/codroidhub/?hl=en"
   ]
  }
 ],
 "metadata": {
  "kernelspec": {
   "display_name": "Python 3 (ipykernel)",
   "language": "python",
   "name": "python3"
  },
  "language_info": {
   "codemirror_mode": {
    "name": "ipython",
    "version": 3
   },
   "file_extension": ".py",
   "mimetype": "text/x-python",
   "name": "python",
   "nbconvert_exporter": "python",
   "pygments_lexer": "ipython3",
   "version": "3.10.9"
  }
 },
 "nbformat": 4,
 "nbformat_minor": 5
}
