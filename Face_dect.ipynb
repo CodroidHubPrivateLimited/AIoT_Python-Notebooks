{
 "cells": [
  {
   "cell_type": "code",
   "execution_count": 1,
   "id": "e45e3815",
   "metadata": {},
   "outputs": [],
   "source": [
    "import cv2  # importing OpenCV library \n",
    "import os   # importing OS library"
   ]
  },
  {
   "cell_type": "code",
   "execution_count": null,
   "id": "72ddb912",
   "metadata": {},
   "outputs": [],
   "source": [
    "cascPath=os.path.dirname(cv2.__file__)+\"/data/haarcascade_frontalface_default.xml\" # loading cascade\n",
    "faceCascade = cv2.CascadeClassifier(cascPath)    # using cascade\n",
    "video_capture = cv2.VideoCapture(0)    # capturing videos\n",
    "\n",
    "while True:     # initiating loop \n",
    "    # Capture frame-by-frame\n",
    "    ret, frames = video_capture.read()\n",
    "    # changing coloured frame to grey frame\n",
    "    gray = cv2.cvtColor(frames, cv2.COLOR_BGR2GRAY)\n",
    "    \n",
    "    faces = faceCascade.detectMultiScale(gray,scaleFactor=1.1,minNeighbors=5,minSize=(30, 30),flags=cv2.CASCADE_SCALE_IMAGE)\n",
    "\n",
    "    # Draw a rectangle around the faces\n",
    "    for (x, y, w, h) in faces:\n",
    "        cv2.rectangle(frames, (x, y), (x+w, y+h), (0, 255, 0), 2)\n",
    "\n",
    "    # Display the resulting frame\n",
    "    cv2.imshow('Video', frames)\n",
    "\n",
    "    # breaking the loop if \"q\" is pressed on the keyboard\n",
    "    if cv2.waitKey(1) & 0xFF == ord('q'):\n",
    "        break\n",
    "video_capture.release()\n",
    "cv2.destroyAllWindows()"
   ]
  },
  {
   "cell_type": "code",
   "execution_count": 4,
   "id": "065f6092",
   "metadata": {},
   "outputs": [
    {
     "data": {
      "text/plain": [
       "'scaleFactor – Parameter specifying how much the image size is reduced at each image scale.\\n\\nminNeighbors – Parameter specifying how many neighbors each candidate rectangle should have to retain it.\\nThis parameter will affect the quality of the detected faces. Higher value results in less detections but \\nwith higher quality. 3~6 is a good value for it.\\n\\nminSize – Minimum possible object size. Objects smaller than that are ignored.\\n\\nThis parameter determine how small size you want to detect. You decide it! Usually, [30, 30] is a good start for face detection.\\n\\nmaxSize – Maximum possible object size. Objects bigger than this are ignored.'"
      ]
     },
     "execution_count": 4,
     "metadata": {},
     "output_type": "execute_result"
    }
   ],
   "source": [
    "\"\"\"scaleFactor – Parameter specifying how much the image size is reduced at each image scale.\n",
    "\n",
    "minNeighbors – Parameter specifying how many neighbors each candidate rectangle should have to retain it.\n",
    "This parameter will affect the quality of the detected faces. Higher value results in less detections but \n",
    "with higher quality. 3~6 is a good value for it.\n",
    "\n",
    "minSize – Minimum possible object size. Objects smaller than that are ignored.\n",
    "\n",
    "This parameter determine how small size you want to detect. You decide it! Usually, [30, 30] is a good start for face detection.\n",
    "\n",
    "maxSize – Maximum possible object size. Objects bigger than this are ignored.\"\"\""
   ]
  },
  {
   "cell_type": "code",
   "execution_count": null,
   "id": "2fb1d2b7",
   "metadata": {},
   "outputs": [],
   "source": []
  }
 ],
 "metadata": {
  "kernelspec": {
   "display_name": "Python 3 (ipykernel)",
   "language": "python",
   "name": "python3"
  },
  "language_info": {
   "codemirror_mode": {
    "name": "ipython",
    "version": 3
   },
   "file_extension": ".py",
   "mimetype": "text/x-python",
   "name": "python",
   "nbconvert_exporter": "python",
   "pygments_lexer": "ipython3",
   "version": "3.10.9"
  },
  "toc": {
   "base_numbering": 1,
   "nav_menu": {},
   "number_sections": true,
   "sideBar": true,
   "skip_h1_title": false,
   "title_cell": "Table of Contents",
   "title_sidebar": "Contents",
   "toc_cell": false,
   "toc_position": {},
   "toc_section_display": true,
   "toc_window_display": false
  }
 },
 "nbformat": 4,
 "nbformat_minor": 5
}
