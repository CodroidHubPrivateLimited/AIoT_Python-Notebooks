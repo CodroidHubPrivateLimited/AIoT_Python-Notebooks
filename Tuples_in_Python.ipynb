{
 "cells": [
  {
   "cell_type": "markdown",
   "id": "cdd59bff-3fb9-4495-8166-36da8719677c",
   "metadata": {},
   "source": [
    "# Tuples"
   ]
  },
  {
   "cell_type": "markdown",
   "id": "92e43c05-b5b0-4e84-b33f-b468b23c075f",
   "metadata": {},
   "source": [
    "- Tuples are used to store multiple items in a single variable.\n",
    "- Tuple is one of 4 built-in data types in Python used to store collections of data.\n",
    "- A tuple is a collection which is ordered and unchangeable.\n",
    "- Tuples are written with round brackets."
   ]
  },
  {
   "cell_type": "code",
   "execution_count": 1,
   "id": "7ca20b5c-0213-467b-81c5-c2fe7607bc20",
   "metadata": {},
   "outputs": [
    {
     "ename": "TypeError",
     "evalue": "'tuple' object does not support item assignment",
     "output_type": "error",
     "traceback": [
      "\u001b[1;31m---------------------------------------------------------------------------\u001b[0m",
      "\u001b[1;31mTypeError\u001b[0m                                 Traceback (most recent call last)",
      "Cell \u001b[1;32mIn[1], line 3\u001b[0m\n\u001b[0;32m      1\u001b[0m \u001b[38;5;66;03m# defining a simple tuple\u001b[39;00m\n\u001b[0;32m      2\u001b[0m tuples \u001b[38;5;241m=\u001b[39m (\u001b[38;5;124m\"\u001b[39m\u001b[38;5;124mapple\u001b[39m\u001b[38;5;124m\"\u001b[39m, \u001b[38;5;124m\"\u001b[39m\u001b[38;5;124mbanana\u001b[39m\u001b[38;5;124m\"\u001b[39m, \u001b[38;5;124m\"\u001b[39m\u001b[38;5;124mcherry\u001b[39m\u001b[38;5;124m\"\u001b[39m)\n\u001b[1;32m----> 3\u001b[0m tuples[\u001b[38;5;241m1\u001b[39m] \u001b[38;5;241m=\u001b[39m \u001b[38;5;124m\"\u001b[39m\u001b[38;5;124mmango\u001b[39m\u001b[38;5;124m\"\u001b[39m\n",
      "\u001b[1;31mTypeError\u001b[0m: 'tuple' object does not support item assignment"
     ]
    }
   ],
   "source": [
    "# defining a simple tuple\n",
    "tuples = (\"apple\", \"banana\", \"cherry\")\n",
    "tuples[1] = \"mango\"                           # Trying to change"
   ]
  },
  {
   "cell_type": "markdown",
   "id": "06eea95d-7d06-476c-8562-e8a051d06c3c",
   "metadata": {},
   "source": [
    "<b> Some Tuples Characteristics:<b/>"
   ]
  },
  {
   "cell_type": "markdown",
   "id": "2d6a3408-ff56-4b2e-8e87-9712dd9d2024",
   "metadata": {
    "tags": []
   },
   "source": [
    "- Tuple items are ordered, unchangeable, and allow duplicate values.\n",
    "- Tuple items are indexed, the first item has index [0], the second item has index [1] etc.\n",
    "- When we say that tuples are ordered, it means that the items have a defined order, and that order will not change.\n",
    "- Tuples are unchangeable, meaning that we cannot change, add or remove items after the tuple has been created."
   ]
  },
  {
   "cell_type": "markdown",
   "id": "0ddb0605-d474-4662-aba0-ab14f91614db",
   "metadata": {},
   "source": [
    "## Changing Tuples Values"
   ]
  },
  {
   "cell_type": "markdown",
   "id": "1d2ba818-eb4e-49f2-bb9d-2b234490152a",
   "metadata": {},
   "source": [
    "Once a tuple is created, you cannot change its values. Tuples are unchangeable, or immutable as it also is called.\n",
    "But there is a workaround. You can convert the tuple into a list, change the list, and convert the list back into a tuple."
   ]
  },
  {
   "cell_type": "code",
   "execution_count": 1,
   "id": "e7e0b957-18ed-4e3c-8674-7417fdf886c5",
   "metadata": {},
   "outputs": [
    {
     "name": "stdout",
     "output_type": "stream",
     "text": [
      "('apple', 'kiwi', 'cherry')\n"
     ]
    }
   ],
   "source": [
    "tuple_1 = (\"apple\", \"banana\", \"cherry\")  # taking a tuple\n",
    "var_1 = list(tuple_1)                    # changing a tuple to a list \n",
    "var_1[1] = \"kiwi\"                        # changing a value in that list we created in above step\n",
    "tuple_1 = tuple(var_1)                   # again changing that tuple to list\n",
    "print(tuple_1)"
   ]
  },
  {
   "cell_type": "code",
   "execution_count": 2,
   "id": "ff17eba9-5adb-48a6-afff-8f475341bf89",
   "metadata": {},
   "outputs": [
    {
     "name": "stdout",
     "output_type": "stream",
     "text": [
      "('apple', 'banana', 'cherry', 'Tomato')\n"
     ]
    }
   ],
   "source": [
    "# we can add 2 tuples but not a single value to a tuple \n",
    "tuple_2 = (\"apple\", \"banana\", \"cherry\")\n",
    "tuple_3 = (\"Tomato\",)\n",
    "tuple_2 += tuple_3\n",
    "print(tuple_2)"
   ]
  },
  {
   "cell_type": "markdown",
   "id": "4c9b30cf-9e51-412a-a744-7f093d3605bc",
   "metadata": {},
   "source": [
    "We can only use del() function on tuple. If we want to use any other function we have to change that to a list"
   ]
  },
  {
   "cell_type": "markdown",
   "id": "ce22fa87-7175-4160-880c-75ac8388cc68",
   "metadata": {},
   "source": [
    "## Unpacking Tuples"
   ]
  },
  {
   "cell_type": "markdown",
   "id": "b7dbcacd-71c1-4922-afab-101b7c7d6716",
   "metadata": {},
   "source": [
    " When we create a tuple, we normally assign values to it. This is called \"packing\" a tuple, But, in Python, we are also allowed to extract the values back into variables. This is called \"unpacking\"."
   ]
  },
  {
   "cell_type": "code",
   "execution_count": 3,
   "id": "cb5d4cbe-5c2c-405b-8234-3b190311ccab",
   "metadata": {},
   "outputs": [
    {
     "name": "stdout",
     "output_type": "stream",
     "text": [
      "('India', 'America', 'Russia')\n",
      "India\n",
      "America\n",
      "Russia\n"
     ]
    }
   ],
   "source": [
    "countries = (\"India\",\"America\",\"Russia\")\n",
    "(Safron,Blue,White) = countries # these values becomes a variable for the values of above values\n",
    "print(countries)\n",
    "print(Safron)\n",
    "print(Blue)\n",
    "print(White)"
   ]
  },
  {
   "cell_type": "markdown",
   "id": "054b18d1-4bf0-4505-a9ca-974597642668",
   "metadata": {},
   "source": [
    "## Joining Tuples"
   ]
  },
  {
   "cell_type": "markdown",
   "id": "2d91d35b-3ba0-4300-8eab-be8840caed46",
   "metadata": {},
   "source": [
    "- Joining 2 tuples"
   ]
  },
  {
   "cell_type": "code",
   "execution_count": 4,
   "id": "3048f4cd-cbf4-4779-9d2d-fda0c96a46dc",
   "metadata": {},
   "outputs": [
    {
     "name": "stdout",
     "output_type": "stream",
     "text": [
      "('james', 'stephon', 'thompson', 1, 2, 3)\n"
     ]
    }
   ],
   "source": [
    "tuple1 = (\"james\",\"stephon\",\"thompson\")\n",
    "tuple2 = (1, 2, 3)\n",
    "tuple3 = tuple1 + tuple2\n",
    "print(tuple3)"
   ]
  },
  {
   "cell_type": "markdown",
   "id": "d01eabea-8f7a-487b-bcf1-92b10952ec62",
   "metadata": {},
   "source": [
    "- Multiplying tuples"
   ]
  },
  {
   "cell_type": "code",
   "execution_count": 5,
   "id": "8f19c4d8-8ba2-4641-95ee-cb6739538395",
   "metadata": {},
   "outputs": [
    {
     "name": "stdout",
     "output_type": "stream",
     "text": [
      "('apple', 'banana', 'cherry', 'apple', 'banana', 'cherry')\n"
     ]
    }
   ],
   "source": [
    "fruits = (\"apple\", \"banana\", \"cherry\")\n",
    "fruits_1 = fruits * 2\n",
    "print(fruits_1)"
   ]
  },
  {
   "cell_type": "markdown",
   "id": "7996c379-9981-4f13-ac3f-aa15104ca210",
   "metadata": {},
   "source": [
    "## Tuples Methods"
   ]
  },
  {
   "attachments": {
    "98babe6f-b5f0-4878-91dd-2c108c5c4f75.png": {
     "image/png": "[encoded data removed]"
    }
   },
   "cell_type": "markdown",
   "id": "0f021ae3-343c-46fe-b243-b93e00412cf2",
   "metadata": {},
   "source": [
    "![image.png](attachment:98babe6f-b5f0-4878-91dd-2c108c5c4f75.png)"
   ]
  },
  {
   "cell_type": "markdown",
   "id": "2927281f-666d-4d8f-83eb-4f173ee114ed",
   "metadata": {},
   "source": [
    "### Task - 1"
   ]
  },
  {
   "cell_type": "code",
   "execution_count": 1,
   "id": "af14f0f6-4143-4fa7-b468-20a3948ac66d",
   "metadata": {},
   "outputs": [
    {
     "data": {
      "text/plain": [
       "'Write a program to print 30 from the given typle\\na = (\"Seventy\",[1,2,3],(20,30,40),\"Eighty\")'"
      ]
     },
     "execution_count": 1,
     "metadata": {},
     "output_type": "execute_result"
    }
   ],
   "source": [
    "\"\"\"Write a program to print 30 from the given typle\n",
    "a = (\"Seventy\",[1,2,3],(20,30,40),\"Eighty\")\"\"\""
   ]
  },
  {
   "cell_type": "code",
   "execution_count": null,
   "id": "69aab1a4-feb5-4d18-ac16-72f5e35c9405",
   "metadata": {},
   "outputs": [],
   "source": [
    "# Write a program to store the details (Roll number, Name, Section) of three student sin a tuple. Accept all data from the user "
   ]
  }
 ],
 "metadata": {
  "kernelspec": {
   "display_name": "Python 3 (ipykernel)",
   "language": "python",
   "name": "python3"
  },
  "language_info": {
   "codemirror_mode": {
    "name": "ipython",
    "version": 3
   },
   "file_extension": ".py",
   "mimetype": "text/x-python",
   "name": "python",
   "nbconvert_exporter": "python",
   "pygments_lexer": "ipython3",
   "version": "3.10.9"
  }
 },
 "nbformat": 4,
 "nbformat_minor": 5
}
